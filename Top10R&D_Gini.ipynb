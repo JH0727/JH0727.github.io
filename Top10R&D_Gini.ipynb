{
  "nbformat": 4,
  "nbformat_minor": 0,
  "metadata": {
    "colab": {
      "provenance": [],
      "authorship_tag": "ABX9TyPgL3ahe+qLYH1diUxGYUUP",
      "include_colab_link": true
    },
    "kernelspec": {
      "name": "python3",
      "display_name": "Python 3"
    },
    "language_info": {
      "name": "python"
    }
  },
  "cells": [
    {
      "cell_type": "markdown",
      "metadata": {
        "id": "view-in-github",
        "colab_type": "text"
      },
      "source": [
        "<a href=\"https://colab.research.google.com/github/datasciencejames/datasciencejames.github.io/blob/main/Top10R%26D_Gini.ipynb\" target=\"_parent\"><img src=\"https://colab.research.google.com/assets/colab-badge.svg\" alt=\"Open In Colab\"/></a>"
      ]
    },
    {
      "cell_type": "code",
      "source": [
        "import requests\n",
        "import numpy as np\n",
        "import pandas as pd"
      ],
      "metadata": {
        "id": "4n_3ABccQYeX"
      },
      "execution_count": 17,
      "outputs": []
    },
    {
      "cell_type": "code",
      "source": [
        "countries=['USA','CHN','JPN','IND','DEU','KOR','FRA','GBR','RUS']"
      ],
      "metadata": {
        "id": "F7cxi_LkQaef"
      },
      "execution_count": 8,
      "outputs": []
    },
    {
      "cell_type": "code",
      "source": [
        "data=[]\n",
        "for country in countries:\n",
        "  url='https://api.worldbank.org/v2/country/'+country+'/indicator/SI.POV.GINI?format=json'\n",
        "  json_data=requests.get(url).json()[1]\n",
        "  data.append(json_data)"
      ],
      "metadata": {
        "id": "0CJv6PrORloE"
      },
      "execution_count": 12,
      "outputs": []
    },
    {
      "cell_type": "code",
      "source": [
        "flat_data=np.array(data).flatten()"
      ],
      "metadata": {
        "id": "TOGpNvAHSB86"
      },
      "execution_count": 15,
      "outputs": []
    },
    {
      "cell_type": "code",
      "source": [
        "df=pd.json_normalize(flat_data)\n",
        "df"
      ],
      "metadata": {
        "id": "6ySSDqttShbA"
      },
      "execution_count": null,
      "outputs": []
    },
    {
      "cell_type": "code",
      "source": [
        "df1 = df.dropna()"
      ],
      "metadata": {
        "id": "J3WBfPa8S79b"
      },
      "execution_count": 19,
      "outputs": []
    },
    {
      "cell_type": "code",
      "source": [
        "df2 = df1.drop(columns={'countryiso3code','unit','obs_status','decimal','indicator.id','indicator.value','country.id'})"
      ],
      "metadata": {
        "id": "cRrZL7y1S-qw"
      },
      "execution_count": 22,
      "outputs": []
    },
    {
      "cell_type": "code",
      "source": [
        "df3 = df2.rename(columns={'date':'Year','value':'Gini','country.value':'Country'})"
      ],
      "metadata": {
        "id": "6les7Mx5ZqYH"
      },
      "execution_count": 42,
      "outputs": []
    },
    {
      "cell_type": "code",
      "source": [
        "df4 = df3.loc[df2.date>='2013']"
      ],
      "metadata": {
        "id": "wYdxyXgSTaxT"
      },
      "execution_count": 43,
      "outputs": []
    },
    {
      "cell_type": "code",
      "source": [
        "df4.to_csv('TOP10R&D_Gini.csv')"
      ],
      "metadata": {
        "id": "67CDqGk6Y3pi"
      },
      "execution_count": 44,
      "outputs": []
    }
  ]
}