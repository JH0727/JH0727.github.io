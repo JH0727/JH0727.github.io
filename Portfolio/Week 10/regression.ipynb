{
  "nbformat": 4,
  "nbformat_minor": 0,
  "metadata": {
    "colab": {
      "provenance": [],
      "authorship_tag": "ABX9TyPEgIVoud+/wStnNLI/J4FP",
      "include_colab_link": true
    },
    "kernelspec": {
      "name": "python3",
      "display_name": "Python 3"
    },
    "language_info": {
      "name": "python"
    }
  },
  "cells": [
    {
      "cell_type": "markdown",
      "metadata": {
        "id": "view-in-github",
        "colab_type": "text"
      },
      "source": [
        "<a href=\"https://colab.research.google.com/github/datasciencejames/datasciencejames.github.io/blob/main/regression.ipynb\" target=\"_parent\"><img src=\"https://colab.research.google.com/assets/colab-badge.svg\" alt=\"Open In Colab\"/></a>"
      ]
    },
    {
      "cell_type": "code",
      "execution_count": 1,
      "metadata": {
        "id": "JWWPYjR3d3Zw"
      },
      "outputs": [],
      "source": [
        "%matplotlib inline\n",
        "import numpy as np\n",
        "import pandas as pd\n",
        "import matplotlib.pyplot as plt\n",
        "import seaborn as sb\n",
        "plt.style.use('seaborn')"
      ]
    },
    {
      "cell_type": "code",
      "source": [
        "df = pd.read_csv('Data for regression.csv')"
      ],
      "metadata": {
        "id": "g8saJ0wxd7P7"
      },
      "execution_count": 2,
      "outputs": []
    },
    {
      "cell_type": "code",
      "source": [
        "df"
      ],
      "metadata": {
        "id": "4XbagY6Zd_4g"
      },
      "execution_count": null,
      "outputs": []
    },
    {
      "cell_type": "code",
      "source": [
        "df.head(1)"
      ],
      "metadata": {
        "id": "oT0-IlHEeCNO"
      },
      "execution_count": null,
      "outputs": []
    },
    {
      "cell_type": "code",
      "source": [
        "df1 = df[['country', 'g60-85']]"
      ],
      "metadata": {
        "id": "rdq8BDD0eR29"
      },
      "execution_count": 5,
      "outputs": []
    },
    {
      "cell_type": "code",
      "source": [
        "df2 = df[['country', 'gini_land']]"
      ],
      "metadata": {
        "id": "iIFx4N3heTnX"
      },
      "execution_count": 6,
      "outputs": []
    },
    {
      "cell_type": "code",
      "source": [
        "df3 = df1.join(df2,rsuffix='_n')"
      ],
      "metadata": {
        "id": "kKTz5auFeZES"
      },
      "execution_count": 8,
      "outputs": []
    },
    {
      "cell_type": "code",
      "source": [
        "del df3['country_n']"
      ],
      "metadata": {
        "id": "uQiZjfyReVkI"
      },
      "execution_count": 10,
      "outputs": []
    },
    {
      "cell_type": "code",
      "source": [
        "df4 = df3.dropna()"
      ],
      "metadata": {
        "id": "ZNaOsdEjehp7"
      },
      "execution_count": 9,
      "outputs": []
    },
    {
      "cell_type": "code",
      "source": [
        "df5 = pd.read_csv(\"land_gini.csv\")"
      ],
      "metadata": {
        "id": "nc_LsSdYeq2Q"
      },
      "execution_count": null,
      "outputs": []
    },
    {
      "cell_type": "code",
      "source": [
        "del df5['Unnamed: 0']"
      ],
      "metadata": {
        "id": "NKxo-IbMew6R"
      },
      "execution_count": null,
      "outputs": []
    },
    {
      "cell_type": "code",
      "source": [
        "df6 = df5.set_index('country')"
      ],
      "metadata": {
        "id": "otzKxJzaezYk"
      },
      "execution_count": null,
      "outputs": []
    },
    {
      "cell_type": "code",
      "source": [
        "f, ax = plt.subplots(figsize=(7,7))\n",
        "sb.regplot(x=\"gini_land\", y=\"g60-85\", data=df5,\n",
        "                 scatter_kws={\"color\": \"lightblue\"}, line_kws={\"color\": \"blue\"})\n",
        "\n",
        "plt.xlabel('Gini index', fontsize=13)\n",
        "plt.ylabel('Per capita GDP growth', fontsize=13)\n",
        "\n",
        "title_string = \"Growth based on Land distribution inequality: 1960-1985\"\n",
        "subtitle_string = \"Source: World Bank\"\n",
        "\n",
        "plt.suptitle(title_string, fontsize=13, color='black')\n",
        "plt.title(subtitle_string, fontsize=10)"
      ],
      "metadata": {
        "id": "MAIQKUGGe4NJ"
      },
      "execution_count": null,
      "outputs": []
    }
  ]
}
