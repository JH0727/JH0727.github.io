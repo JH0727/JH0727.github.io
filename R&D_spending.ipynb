{
  "nbformat": 4,
  "nbformat_minor": 0,
  "metadata": {
    "colab": {
      "provenance": [],
      "authorship_tag": "ABX9TyOwLkXhEdgCxLEi1/G0I/N6",
      "include_colab_link": true
    },
    "kernelspec": {
      "name": "python3",
      "display_name": "Python 3"
    },
    "language_info": {
      "name": "python"
    }
  },
  "cells": [
    {
      "cell_type": "markdown",
      "metadata": {
        "id": "view-in-github",
        "colab_type": "text"
      },
      "source": [
        "<a href=\"https://colab.research.google.com/github/datasciencejames/datasciencejames.github.io/blob/main/R%26D_spending.ipynb\" target=\"_parent\"><img src=\"https://colab.research.google.com/assets/colab-badge.svg\" alt=\"Open In Colab\"/></a>"
      ]
    },
    {
      "cell_type": "code",
      "execution_count": 1,
      "metadata": {
        "id": "C5YXPP3dpB0b"
      },
      "outputs": [],
      "source": [
        "import pandas as pd\n",
        "import requests\n",
        "from bs4 import BeautifulSoup"
      ]
    },
    {
      "cell_type": "code",
      "source": [
        "url = 'https://en.wikipedia.org/wiki/List_of_sovereign_states_by_research_and_development_spending'"
      ],
      "metadata": {
        "id": "Y1cz-QNPpCwO"
      },
      "execution_count": 2,
      "outputs": []
    },
    {
      "cell_type": "code",
      "source": [
        "response = requests.get(url)"
      ],
      "metadata": {
        "id": "NhPl9KSnpEEo"
      },
      "execution_count": 3,
      "outputs": []
    },
    {
      "cell_type": "code",
      "source": [
        "soup = BeautifulSoup(response.text, 'html.parser')"
      ],
      "metadata": {
        "id": "38XC_KcXpGfj"
      },
      "execution_count": 4,
      "outputs": []
    },
    {
      "cell_type": "code",
      "source": [
        "table = soup.find('table', {'class': 'wikitable sortable'}).tbody"
      ],
      "metadata": {
        "id": "NFdCpIFupH7b"
      },
      "execution_count": 5,
      "outputs": []
    },
    {
      "cell_type": "code",
      "source": [
        "table"
      ],
      "metadata": {
        "id": "Y-urqNRbpJkN"
      },
      "execution_count": null,
      "outputs": []
    },
    {
      "cell_type": "code",
      "source": [
        "rows = table.find_all('tr')"
      ],
      "metadata": {
        "id": "kJ4wa4eBpLhQ"
      },
      "execution_count": 7,
      "outputs": []
    },
    {
      "cell_type": "code",
      "source": [
        "columns = [v.text.replace('\\n','') for v in rows[0].find_all('th')]"
      ],
      "metadata": {
        "id": "KNrtwhrCpNLa"
      },
      "execution_count": 8,
      "outputs": []
    },
    {
      "cell_type": "code",
      "source": [
        "df = pd.DataFrame(columns = columns)"
      ],
      "metadata": {
        "id": "r6nbcw4jpO9i"
      },
      "execution_count": 9,
      "outputs": []
    },
    {
      "cell_type": "code",
      "source": [
        "for i in range(1,11):\n",
        "    tds = rows[i].find_all('td')\n",
        "\n",
        "    if len(tds)==7:\n",
        "        values = [tds[0].text.replace('\\n',''),tds[1].text.replace('\\n','').replace('\\xa0',''),tds[2].text.replace('\\n',''),'','','','']\n",
        "\n",
        "    else: \n",
        "        values = [td.text.replace('\\n','').replace('\\xa0','') for td in tds]\n",
        "\n",
        "    df = df.append(pd.Series(values, index=columns), ignore_index=True)\n",
        "\n",
        "    df.to_csv('R&D_spending.csv')"
      ],
      "metadata": {
        "id": "foRdKEx-pQTZ"
      },
      "execution_count": 10,
      "outputs": []
    }
  ]
}